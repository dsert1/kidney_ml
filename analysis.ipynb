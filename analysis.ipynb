{
 "cells": [
  {
   "cell_type": "code",
   "execution_count": 29,
   "metadata": {},
   "outputs": [],
   "source": [
    "from model import MLPClassifier\n",
    "from dataloader import get_dataloader\n",
    "import numpy as np\n",
    "from utils import simple_accuracy\n",
    "import matplotlib.pyplot as plt\n",
    "from sklearn.model_selection import GridSearchCV, train_test_split\n",
    "from sklearn.metrics import matthews_corrcoef\n",
    "from data import dataset\n",
    "import itertools\n",
    "from tqdm.notebook import tqdm\n",
    "from sklearn.inspection import permutation_importance\n",
    "from sklearn.metrics import accuracy_score, precision_score, recall_score, f1_score, roc_curve, auc, precision_recall_curve\n",
    "import pandas as pd"
   ]
  },
  {
   "cell_type": "code",
   "execution_count": 3,
   "metadata": {},
   "outputs": [],
   "source": [
    "DATA_PATH = dataset\n",
    "LABEL_COLUMN = 'GDvsTI'\n",
    "EPOCHS = 100\n",
    "N_BOOTSTRAPS = 100\n",
    "features = ['eGFR_CKDEPI2021', 'age', \"SeqId_10011_65\", \"SeqId_10024_44\", \"SeqId_10040_63\", \"SeqId_10042_8\"]\n",
    "param_grid = {\n",
    "    'lr': [1e-2, 1e-3, 1e-4],\n",
    "    'batch_size': [8, 16, 32],\n",
    "    'hidden_dims': [(32,), (64, 32), (128, 64, 32)]\n",
    "}"
   ]
  },
  {
   "cell_type": "code",
   "execution_count": 4,
   "metadata": {},
   "outputs": [],
   "source": [
    "# Hyperparameter grid\n",
    "param_grid = {\n",
    "    'lr': [1e-2, 1e-3, 1e-4],\n",
    "    'batch_size': [8, 16, 32],\n",
    "    # Add other hyperparameters here...\n",
    "}"
   ]
  },
  {
   "cell_type": "code",
   "execution_count": 27,
   "metadata": {},
   "outputs": [],
   "source": [
    "def load_data():\n",
    "    print(f\"Loading data from: {DATA_PATH}\")\n",
    "    dataloader = get_dataloader(DATA_PATH, LABEL_COLUMN, batch_size=32, features=features)\n",
    "    print(f\"Dataloader: {dataloader}\")\n",
    "    X, y = [], []\n",
    "    for batch_input, batch_label in dataloader:\n",
    "        X.append(batch_input.numpy())\n",
    "        y.append(batch_label.numpy())\n",
    "    \n",
    "    return np.vstack(X), np.hstack(y)"
   ]
  },
  {
   "cell_type": "code",
   "execution_count": 32,
   "metadata": {},
   "outputs": [],
   "source": [
    "# load_data()\n",
    "df = pd.read_csv(dataset)\n",
    "# print(csv.columns)\n",
    "columns_to_write = [col for col in df.columns if col != \"GDvsTI\"]\n",
    "\n",
    "# Write the columns to a text file\n",
    "with open('columns.txt', 'w') as f:\n",
    "    for col in columns_to_write:\n",
    "        f.write(str(columns_to_write))"
   ]
  },
  {
   "cell_type": "code",
   "execution_count": 6,
   "metadata": {},
   "outputs": [],
   "source": [
    "def grid_search_train(X, y):\n",
    "    best_mcc = -np.inf\n",
    "    best_params = None\n",
    "    \n",
    "    # Lists to store metrics for each bootstrap iteration\n",
    "    accuracies = []\n",
    "    precisions = []\n",
    "    recalls = []\n",
    "    f1s = []\n",
    "    mccs = []\n",
    "    rocs = []\n",
    "    pr_curves = []\n",
    "\n",
    "    # Generate all combinations of hyperparameters\n",
    "    keys, values = zip(*param_grid.items())\n",
    "    param_combinations = [dict(zip(keys, v)) for v in itertools.product(*values)]\n",
    "    \n",
    "    for i in tqdm(range(N_BOOTSTRAPS)):\n",
    "        X_train, X_val, y_train, y_val = train_test_split(X, y, test_size=0.4)\n",
    "\n",
    "        for params in param_combinations:\n",
    "            model = MLPClassifier(**params)\n",
    "            model.fit(X_train, y_train)\n",
    "            predictions = model.predict(X_val)\n",
    "            \n",
    "            # Compute metrics\n",
    "            accuracy = accuracy_score(y_val, predictions)\n",
    "            precision = precision_score(y_val, predictions)\n",
    "            recall = recall_score(y_val, predictions)\n",
    "            f1 = f1_score(y_val, predictions)\n",
    "            mcc = matthews_corrcoef(y_val, predictions)\n",
    "            fpr, tpr, _ = roc_curve(y_val, predictions)\n",
    "            precision_curve, recall_curve, _ = precision_recall_curve(y_val, predictions)\n",
    "            \n",
    "            # Store metrics\n",
    "            accuracies.append(accuracy)\n",
    "            precisions.append(precision)\n",
    "            recalls.append(recall)\n",
    "            f1s.append(f1)\n",
    "            mccs.append(mcc)\n",
    "            rocs.append((fpr, tpr))\n",
    "            pr_curves.append((precision_curve, recall_curve))\n",
    "            \n",
    "            if mcc > best_mcc:\n",
    "                best_mcc = mcc\n",
    "                best_params = params\n",
    "                \n",
    "    # Compute mean and standard deviation for each metric\n",
    "    mean_accuracy = np.mean(accuracies)\n",
    "    std_accuracy = np.std(accuracies)\n",
    "    mean_precision = np.mean(precisions)\n",
    "    std_precision = np.std(precisions)\n",
    "    mean_recall = np.mean(recalls)\n",
    "    std_recall = np.std(recalls)\n",
    "    mean_f1 = np.mean(f1s)\n",
    "    std_f1 = np.std(f1s)\n",
    "    mean_mcc = np.mean(mccs)\n",
    "    std_mcc = np.std(mccs)\n",
    "    \n",
    "    return best_mcc, best_params, mean_accuracy, std_accuracy, mean_precision, std_precision, mean_recall, std_recall, mean_f1, std_f1, mean_mcc, std_mcc\n"
   ]
  },
  {
   "cell_type": "code",
   "execution_count": 17,
   "metadata": {},
   "outputs": [],
   "source": [
    "def plot_importances(model, X, y):\n",
    "    result = permutation_importance(model, X, y, n_repeats=30, random_state=0)\n",
    "    importances = result.importances_mean\n",
    "    print(\"importances: \", importances)\n",
    "    std = result.importances_std\n",
    "    indices = np.argsort(importances)[::-1]\n",
    "    print([importances[i] for i in indices])\n",
    "\n",
    "    plt.figure()\n",
    "    plt.title(\"Feature importances\")\n",
    "    plt.bar(range(X.shape[1]), importances[indices], color=\"r\", yerr=std[indices], align=\"center\")\n",
    "    plt.xticks(range(X.shape[1]), np.array(features)[indices], rotation=45, ha=\"right\")\n",
    "    plt.xlim([-1, X.shape[1]])\n",
    "    plt.show()"
   ]
  },
  {
   "cell_type": "code",
   "execution_count": 15,
   "metadata": {},
   "outputs": [
    {
     "name": "stdout",
     "output_type": "stream",
     "text": [
      "Loading data from: ./data/kidney_data_final_9.18.23.csv\n",
      "Features: ['eGFR_CKDEPI2021', 'age', 'SeqId_10011_65', 'SeqId_10024_44', 'SeqId_10040_63', 'SeqId_10042_8']\n",
      "Label: GDvsTI\n",
      "dataset.py features:  ['eGFR_CKDEPI2021', 'age', 'SeqId_10011_65', 'SeqId_10024_44', 'SeqId_10040_63', 'SeqId_10042_8']\n",
      "self.label:  GDvsTI\n",
      "self.content after filtering:  1\n",
      "self.x:  [[36.       27.540041 11.332205 10.551516  8.871289  9.807516]\n",
      " [64.       52.900753 11.26092   9.368943  9.086667  9.509775]\n",
      " [45.       68.3833   11.155451  9.495255  8.844235  9.562433]\n",
      " ...\n",
      " [ 7.       44.648872 11.84184  11.859729 11.824999  9.809125]\n",
      " [39.       49.88912  11.479073  9.371341  8.703212  9.515503]\n",
      " [28.       68.952774 11.643631  9.518063  8.836997  9.574972]]\n",
      "self.y:  [1. 1. 1. 1. 1. 1. 1. 1. 1. 1. 1. 1. 1. 1. 1. 1. 1. 1. 1. 1. 1. 1. 1. 1.\n",
      " 1. 1. 1. 1. 1. 1. 1. 1. 1. 1. 1. 1. 1. 1. 1. 1. 1. 1. 1. 1. 1. 1. 1. 1.\n",
      " 1. 1. 1. 1. 1. 1. 1. 1. 1. 1. 1. 1. 1. 1. 1. 1. 1. 1. 1. 1. 1. 1. 1. 1.\n",
      " 1. 1. 1. 1. 1. 1. 1. 1. 1. 1. 1. 1. 1. 1. 1. 1. 1. 1. 1. 1. 1. 1. 1. 1.\n",
      " 1. 1. 1. 1. 1. 1. 1. 1. 1. 1. 1. 1. 1. 1. 1. 1. 1. 1. 1. 1. 1. 1. 1. 1.\n",
      " 1. 1. 1. 1. 1. 1. 1. 1. 1. 1. 1. 1. 1. 1. 1. 1. 1. 1. 1. 1. 1. 1. 1. 1.\n",
      " 1. 1. 1. 1. 1. 1. 1. 1. 1. 1. 1. 1. 1. 1. 1. 1. 1. 1. 1. 1. 1. 1. 1. 1.\n",
      " 1. 1. 1. 1. 1. 0. 0. 0. 0. 0. 0. 0. 0. 0. 0. 0. 0. 0. 0. 0. 0. 0. 0. 0.\n",
      " 0. 0. 0. 0. 0. 0. 0. 0. 0. 0. 0. 0. 0. 0. 0. 0. 0. 0. 0. 0. 0. 0. 0. 0.\n",
      " 0. 0. 0. 0. 0.]\n",
      "line 8 dataset:  <dataset.KidneyDataset object at 0x17be22910>\n",
      "batch size:  32\n",
      "shuffle:  True\n"
     ]
    }
   ],
   "source": [
    "X, y = load_data()\n",
    "def train_model():\n",
    "    \n",
    "    best_score, best_params, mean_accuracy, std_accuracy, mean_precision, std_precision, mean_recall, std_recall, mean_f1, std_f1, mean_mcc, std_mcc = grid_search_train(X, y)\n",
    "    \n",
    "    print(f\"Best Score (MCC): {best_score}\")\n",
    "    print(f\"Best Parameters: {best_params}\")\n",
    "    print(f\"Mean Accuracy: {mean_accuracy} ± {std_accuracy}\")\n",
    "    print(f\"Mean Precision: {mean_precision} ± {std_precision}\")\n",
    "    print(f\"Mean Recall: {mean_recall} ± {std_recall}\")\n",
    "    print(f\"Mean F1 Score: {mean_f1} ± {std_f1}\")\n",
    "    print(f\"Mean MCC: {mean_mcc} ± {std_mcc}\")\n",
    "    \n",
    "    # Train final model with best parameters on the entire dataset\n",
    "    model = MLPClassifier(**best_params)\n",
    "    model.fit(X, y)\n",
    "    return model\n"
   ]
  },
  {
   "cell_type": "code",
   "execution_count": 18,
   "metadata": {},
   "outputs": [
    {
     "name": "stdout",
     "output_type": "stream",
     "text": [
      "importances:  [-0.00648567 -0.01055807 -0.00739065 -0.00497738 -0.00558069 -0.0040724 ]\n",
      "[-0.004072398190045298, -0.00497737556561092, -0.005580693815988007, -0.006485671191553614, -0.007390648567119218, -0.010558069381598844]\n"
     ]
    },
    {
     "data": {
      "image/png": "[encoded data removed]",
      "text/plain": [
       "<Figure size 640x480 with 1 Axes>"
      ]
     },
     "metadata": {},
     "output_type": "display_data"
    }
   ],
   "source": [
    "# model = train_model()\n",
    "# Optional: Save the model\n",
    "# model.save('./model_weights_sample.pt')\n",
    "    \n",
    "# Plot feature importances\n",
    "plot_importances(model, X, y)"
   ]
  },
  {
   "cell_type": "code",
   "execution_count": 11,
   "metadata": {},
   "outputs": [
    {
     "name": "stdout",
     "output_type": "stream",
     "text": [
      "Loading data from: ./data/kidney_data_final_9.18.23.csv\n",
      "Features: ['eGFR_CKDEPI2021', 'age', 'SeqId_10011_65', 'SeqId_10024_44', 'SeqId_10040_63', 'SeqId_10042_8']\n",
      "Label: GDvsTI\n",
      "dataset.py features:  ['eGFR_CKDEPI2021', 'age', 'SeqId_10011_65', 'SeqId_10024_44', 'SeqId_10040_63', 'SeqId_10042_8']\n",
      "self.label:  GDvsTI\n",
      "self.content after filtering:  1\n",
      "self.x:  [[36.       27.540041 11.332205 10.551516  8.871289  9.807516]\n",
      " [64.       52.900753 11.26092   9.368943  9.086667  9.509775]\n",
      " [45.       68.3833   11.155451  9.495255  8.844235  9.562433]\n",
      " ...\n",
      " [ 7.       44.648872 11.84184  11.859729 11.824999  9.809125]\n",
      " [39.       49.88912  11.479073  9.371341  8.703212  9.515503]\n",
      " [28.       68.952774 11.643631  9.518063  8.836997  9.574972]]\n",
      "self.y:  [1. 1. 1. 1. 1. 1. 1. 1. 1. 1. 1. 1. 1. 1. 1. 1. 1. 1. 1. 1. 1. 1. 1. 1.\n",
      " 1. 1. 1. 1. 1. 1. 1. 1. 1. 1. 1. 1. 1. 1. 1. 1. 1. 1. 1. 1. 1. 1. 1. 1.\n",
      " 1. 1. 1. 1. 1. 1. 1. 1. 1. 1. 1. 1. 1. 1. 1. 1. 1. 1. 1. 1. 1. 1. 1. 1.\n",
      " 1. 1. 1. 1. 1. 1. 1. 1. 1. 1. 1. 1. 1. 1. 1. 1. 1. 1. 1. 1. 1. 1. 1. 1.\n",
      " 1. 1. 1. 1. 1. 1. 1. 1. 1. 1. 1. 1. 1. 1. 1. 1. 1. 1. 1. 1. 1. 1. 1. 1.\n",
      " 1. 1. 1. 1. 1. 1. 1. 1. 1. 1. 1. 1. 1. 1. 1. 1. 1. 1. 1. 1. 1. 1. 1. 1.\n",
      " 1. 1. 1. 1. 1. 1. 1. 1. 1. 1. 1. 1. 1. 1. 1. 1. 1. 1. 1. 1. 1. 1. 1. 1.\n",
      " 1. 1. 1. 1. 1. 0. 0. 0. 0. 0. 0. 0. 0. 0. 0. 0. 0. 0. 0. 0. 0. 0. 0. 0.\n",
      " 0. 0. 0. 0. 0. 0. 0. 0. 0. 0. 0. 0. 0. 0. 0. 0. 0. 0. 0. 0. 0. 0. 0. 0.\n",
      " 0. 0. 0. 0. 0.]\n",
      "line 8 dataset:  <dataset.KidneyDataset object at 0x2b2050510>\n",
      "batch size:  32\n",
      "shuffle:  True\n"
     ]
    },
    {
     "data": {
      "application/vnd.jupyter.widget-view+json": {
       "model_id": "ad8813a854b14982b7cc89260348cf9f",
       "version_major": 2,
       "version_minor": 0
      },
      "text/plain": [
       "  0%|          | 0/100 [00:00<?, ?it/s]"
      ]
     },
     "metadata": {},
     "output_type": "display_data"
    },
    {
     "name": "stderr",
     "output_type": "stream",
     "text": [
      "/opt/homebrew/lib/python3.11/site-packages/sklearn/metrics/_classification.py:1469: UndefinedMetricWarning: Precision is ill-defined and being set to 0.0 due to no predicted samples. Use `zero_division` parameter to control this behavior.\n",
      "  _warn_prf(average, modifier, msg_start, len(result))\n",
      "/opt/homebrew/lib/python3.11/site-packages/sklearn/metrics/_classification.py:1469: UndefinedMetricWarning: Precision is ill-defined and being set to 0.0 due to no predicted samples. Use `zero_division` parameter to control this behavior.\n",
      "  _warn_prf(average, modifier, msg_start, len(result))\n"
     ]
    },
    {
     "name": "stdout",
     "output_type": "stream",
     "text": [
      "Best Score (MCC): 0.49735027281476557\n",
      "Best Parameters: {'lr': 0.001, 'batch_size': 8}\n",
      "Mean Accuracy: 0.7440948813982522 ± 0.10437326839560557\n",
      "Mean Precision: 0.7851868432241933 ± 0.06761454759598423\n",
      "Mean Recall: 0.9271307119335063 ± 0.17946271043736192\n",
      "Mean F1 Score: 0.8369338209661358 ± 0.1256986420565416\n",
      "Mean MCC: 0.027649101073039722 ± 0.10137846450164763\n"
     ]
    },
    {
     "data": {
      "image/png": "[encoded data removed]",
      "text/plain": [
       "<Figure size 640x480 with 1 Axes>"
      ]
     },
     "metadata": {},
     "output_type": "display_data"
    }
   ],
   "source": [
    "main()"
   ]
  }
 ],
 "metadata": {
  "kernelspec": {
   "display_name": "Python 3",
   "language": "python",
   "name": "python3"
  },
  "language_info": {
   "codemirror_mode": {
    "name": "ipython",
    "version": 3
   },
   "file_extension": ".py",
   "mimetype": "text/x-python",
   "name": "python",
   "nbconvert_exporter": "python",
   "pygments_lexer": "ipython3",
   "version": "3.11.4"
  },
  "orig_nbformat": 4
 },
 "nbformat": 4,
 "nbformat_minor": 2
}
